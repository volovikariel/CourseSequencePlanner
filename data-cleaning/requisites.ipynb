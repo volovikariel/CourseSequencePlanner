{
 "cells": [
  {
   "cell_type": "code",
   "execution_count": 36,
   "metadata": {},
   "outputs": [],
   "source": [
    "import pandas as pd"
   ]
  },
  {
   "cell_type": "code",
   "execution_count": 37,
   "metadata": {},
   "outputs": [],
   "source": [
    "REQS_FILE = 'data/CU_SR_OPEN_DATA_CATALOG.csv'\n",
    "REQS_FILE_ENCODING = 'utf-16le'"
   ]
  },
  {
   "cell_type": "code",
   "execution_count": 38,
   "metadata": {},
   "outputs": [
    {
     "data": {
      "text/html": [
       "<div>\n",
       "<style scoped>\n",
       "    .dataframe tbody tr th:only-of-type {\n",
       "        vertical-align: middle;\n",
       "    }\n",
       "\n",
       "    .dataframe tbody tr th {\n",
       "        vertical-align: top;\n",
       "    }\n",
       "\n",
       "    .dataframe thead th {\n",
       "        text-align: right;\n",
       "    }\n",
       "</style>\n",
       "<table border=\"1\" class=\"dataframe\">\n",
       "  <thead>\n",
       "    <tr style=\"text-align: right;\">\n",
       "      <th></th>\n",
       "      <th>Course ID</th>\n",
       "      <th>Subject</th>\n",
       "      <th>Catalog</th>\n",
       "      <th>Long Title</th>\n",
       "      <th>Class Units</th>\n",
       "      <th>Component Code</th>\n",
       "      <th>Component Descr</th>\n",
       "      <th>Pre Requisite Description</th>\n",
       "      <th>Career</th>\n",
       "      <th>Equivalent Courses</th>\n",
       "    </tr>\n",
       "  </thead>\n",
       "  <tbody>\n",
       "    <tr>\n",
       "      <th>0</th>\n",
       "      <td>26</td>\n",
       "      <td>ACCO</td>\n",
       "      <td>220</td>\n",
       "      <td>Financial and Managerial Accounting</td>\n",
       "      <td>3.0</td>\n",
       "      <td>LEC</td>\n",
       "      <td>Lecture</td>\n",
       "      <td>Never Taken/Not Registered: ACCO213, ACCO21...</td>\n",
       "      <td>UGRD</td>\n",
       "      <td>NaN</td>\n",
       "    </tr>\n",
       "    <tr>\n",
       "      <th>1</th>\n",
       "      <td>27</td>\n",
       "      <td>ACCO</td>\n",
       "      <td>230</td>\n",
       "      <td>Introduction to Financial Accounting</td>\n",
       "      <td>3.0</td>\n",
       "      <td>LEC</td>\n",
       "      <td>Lecture</td>\n",
       "      <td>Never Taken/Not Registered: ACCO213, ACCO220, ...</td>\n",
       "      <td>UGRD</td>\n",
       "      <td>NaN</td>\n",
       "    </tr>\n",
       "    <tr>\n",
       "      <th>2</th>\n",
       "      <td>28</td>\n",
       "      <td>ACCO</td>\n",
       "      <td>240</td>\n",
       "      <td>Introduction to Managerial Accounting</td>\n",
       "      <td>3.0</td>\n",
       "      <td>LEC</td>\n",
       "      <td>Lecture</td>\n",
       "      <td>Never Taken/Not Registered: ACCO218, ACCO22...</td>\n",
       "      <td>UGRD</td>\n",
       "      <td>NaN</td>\n",
       "    </tr>\n",
       "  </tbody>\n",
       "</table>\n",
       "</div>"
      ],
      "text/plain": [
       "   Course ID Subject Catalog                             Long Title  \\\n",
       "0         26    ACCO     220    Financial and Managerial Accounting   \n",
       "1         27    ACCO     230   Introduction to Financial Accounting   \n",
       "2         28    ACCO     240  Introduction to Managerial Accounting   \n",
       "\n",
       "   Class Units Component Code Component Descr  \\\n",
       "0          3.0            LEC         Lecture   \n",
       "1          3.0            LEC         Lecture   \n",
       "2          3.0            LEC         Lecture   \n",
       "\n",
       "                           Pre Requisite Description Career Equivalent Courses  \n",
       "0     Never Taken/Not Registered: ACCO213, ACCO21...   UGRD                NaN  \n",
       "1  Never Taken/Not Registered: ACCO213, ACCO220, ...   UGRD                NaN  \n",
       "2     Never Taken/Not Registered: ACCO218, ACCO22...   UGRD                NaN  "
      ]
     },
     "execution_count": 38,
     "metadata": {},
     "output_type": "execute_result"
    }
   ],
   "source": [
    "reqs: pd.DataFrame = pd.read_csv(REQS_FILE, encoding=REQS_FILE_ENCODING)\n",
    "reqs.head(3)"
   ]
  },
  {
   "cell_type": "code",
   "execution_count": 48,
   "metadata": {},
   "outputs": [
    {
     "data": {
      "text/html": [
       "<div>\n",
       "<style scoped>\n",
       "    .dataframe tbody tr th:only-of-type {\n",
       "        vertical-align: middle;\n",
       "    }\n",
       "\n",
       "    .dataframe tbody tr th {\n",
       "        vertical-align: top;\n",
       "    }\n",
       "\n",
       "    .dataframe thead th {\n",
       "        text-align: right;\n",
       "    }\n",
       "</style>\n",
       "<table border=\"1\" class=\"dataframe\">\n",
       "  <thead>\n",
       "    <tr style=\"text-align: right;\">\n",
       "      <th></th>\n",
       "      <th>Catalog</th>\n",
       "      <th>Pre Requisite Description</th>\n",
       "    </tr>\n",
       "  </thead>\n",
       "  <tbody>\n",
       "    <tr>\n",
       "      <th>1876</th>\n",
       "      <td>201</td>\n",
       "      <td>Course Prerequisite: MATH201</td>\n",
       "    </tr>\n",
       "    <tr>\n",
       "      <th>1877</th>\n",
       "      <td>201</td>\n",
       "      <td>Course Prerequisite: MATH201</td>\n",
       "    </tr>\n",
       "    <tr>\n",
       "      <th>1878</th>\n",
       "      <td>218</td>\n",
       "      <td>Never Taken/Not Registered: COMP248 You mus...</td>\n",
       "    </tr>\n",
       "  </tbody>\n",
       "</table>\n",
       "</div>"
      ],
      "text/plain": [
       "     Catalog                          Pre Requisite Description\n",
       "1876     201                       Course Prerequisite: MATH201\n",
       "1877     201                       Course Prerequisite: MATH201\n",
       "1878     218     Never Taken/Not Registered: COMP248 You mus..."
      ]
     },
     "execution_count": 48,
     "metadata": {},
     "output_type": "execute_result"
    }
   ],
   "source": [
    "# Looking at undergrad COMP courses (so as to clean the pre-requisite description)\n",
    "ugrd_comp_reqs: pd.DataFrame = reqs[(reqs[\"Career\"] == \"UGRD\") & (reqs[\"Subject\"] == \"COMP\")][[\"Catalog\", \"Pre Requisite Description\"]]\n",
    "ugrd_comp_reqs.head(3)"
   ]
  },
  {
   "cell_type": "code",
   "execution_count": null,
   "metadata": {},
   "outputs": [],
   "source": [
    "# TODO: Clean the pre-requisite description (if possible)\n",
    "# e.g: Replace pre-requisite, requisite, done before, etc. with Prerequisite"
   ]
  }
 ],
 "metadata": {
  "kernelspec": {
   "display_name": "Python 3",
   "language": "python",
   "name": "python3"
  },
  "language_info": {
   "codemirror_mode": {
    "name": "ipython",
    "version": 3
   },
   "file_extension": ".py",
   "mimetype": "text/x-python",
   "name": "python",
   "nbconvert_exporter": "python",
   "pygments_lexer": "ipython3",
   "version": "3.12.1"
  }
 },
 "nbformat": 4,
 "nbformat_minor": 2
}
