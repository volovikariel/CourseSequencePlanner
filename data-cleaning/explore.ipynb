{
 "cells": [
  {
   "cell_type": "code",
   "execution_count": 1,
   "metadata": {},
   "outputs": [],
   "source": [
    "import pandas as pd"
   ]
  },
  {
   "cell_type": "code",
   "execution_count": 13,
   "metadata": {},
   "outputs": [],
   "source": [
    "FILE = \"catalog_further_cleaned\""
   ]
  },
  {
   "cell_type": "code",
   "execution_count": 14,
   "metadata": {},
   "outputs": [],
   "source": [
    "df = pd.read_csv(f'data/{FILE}.csv')"
   ]
  },
  {
   "cell_type": "code",
   "execution_count": 16,
   "metadata": {},
   "outputs": [],
   "source": [
    "# For now, only the COMP UGRD courses have been cleaned\n",
    "# Assumption: All components (e.g: Lecture and Lab) have the same prerequisites, so we can afford to only clean the Lecture\n",
    "comp = df[(df[\"Subject\"] == \"COMP\") & (df[\"Career\"] == \"UGRD\") & (df[\"Component Descr\"] == \"Lecture\")] #[[\"Subject\", \"Catalog\", \"Pre Requisite Description\" ]]"
   ]
  },
  {
   "cell_type": "code",
   "execution_count": 5,
   "metadata": {},
   "outputs": [],
   "source": [
    "# Examples to parse:\n",
    "# Prerequisite: (COMP232 or COEN231) and (COMP352 or COEN352)\n",
    "# Never Taken: (COMP451 or COMP454 or COMP458)\n",
    "# No credits if taken: (BIOL322 or ENGR371 or STAT249 or STAT250 or COMM215 or MAST221 or MAST333)\n",
    "# Prerequisite: ((A or B) and C) or D or G\n",
    "\n",
    "# Grammar (EBNF format)\n",
    "# entire expression = [(expression, \"\\n\")*, expression];\n",
    "# expression = expression type, \":\", whitespace, (course id | boolean expression);\n",
    "# boolean expression = terminal boolean expression\n",
    "#                    | boolean expression, (whitespace, boolean operator, whitespace, boolean expression)+;\n",
    "# terminal boolean expression = course id, whitespace, boolean operator, whitespace, course id\n",
    "#                             | \"(\", course id, (whitespace, boolean operator, whitespace, course id)+ , \")\";\n",
    "# course id = number;\n",
    "# expression type = \"Prerequisite\" | \"Corequisite\" | \"No credits if taken\" | \"Never Taken\";\n",
    "# boolean operator = \"and\" | \"or\";\n",
    "# digit = \"0\" | \"1\" | \"2\" | \"3\" | \"4\" | \"5\" | \"6\" | \"7\" | \"8\" | \"9\";\n",
    "# number = { [digit - 0], digit };\n",
    "# whitespace = {\" \" | \"\\t\" | \"\\n\"};"
   ]
  }
 ],
 "metadata": {
  "kernelspec": {
   "display_name": "course-seq-plan",
   "language": "python",
   "name": "python3"
  },
  "language_info": {
   "codemirror_mode": {
    "name": "ipython",
    "version": 3
   },
   "file_extension": ".py",
   "mimetype": "text/x-python",
   "name": "python",
   "nbconvert_exporter": "python",
   "pygments_lexer": "ipython3",
   "version": "3.12.1"
  }
 },
 "nbformat": 4,
 "nbformat_minor": 2
}
