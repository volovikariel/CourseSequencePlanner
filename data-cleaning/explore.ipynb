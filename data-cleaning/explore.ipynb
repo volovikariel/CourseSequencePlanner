{
 "cells": [
  {
   "cell_type": "code",
   "execution_count": 17,
   "metadata": {},
   "outputs": [],
   "source": [
    "import pandas as pd"
   ]
  },
  {
   "cell_type": "code",
   "execution_count": 18,
   "metadata": {},
   "outputs": [],
   "source": [
    "FILE = \"catalog_further_cleaned\""
   ]
  },
  {
   "cell_type": "code",
   "execution_count": 19,
   "metadata": {},
   "outputs": [],
   "source": [
    "df = pd.read_csv(f'data/{FILE}.csv')"
   ]
  },
  {
   "cell_type": "code",
   "execution_count": 23,
   "metadata": {},
   "outputs": [],
   "source": [
    "# For now, only the COMP UGRD courses have been cleaned\n",
    "# Assumption: All components (e.g: Lecture and Lab) have the same prerequisites, so we can afford to only clean the Lecture\n",
    "comp = df[(df[\"Subject\"] == \"COMP\") & (df[\"Career\"] == \"UGRD\") & (df[\"Component Descr\"] == \"Lecture\")][[\"Subject\", \"Catalog\", \"Pre Requisite Description\" ]]"
   ]
  },
  {
   "cell_type": "code",
   "execution_count": null,
   "metadata": {},
   "outputs": [],
   "source": [
    "# For each class\n",
    "# If can take class -> (fulfill prereq/coreq/never_taken and schedule constraints)\n",
    "#   Consider all scenarios where class is taken"
   ]
  }
 ],
 "metadata": {
  "kernelspec": {
   "display_name": "course-seq-plan",
   "language": "python",
   "name": "python3"
  },
  "language_info": {
   "codemirror_mode": {
    "name": "ipython",
    "version": 3
   },
   "file_extension": ".py",
   "mimetype": "text/x-python",
   "name": "python",
   "nbconvert_exporter": "python",
   "pygments_lexer": "ipython3",
   "version": "3.12.1"
  }
 },
 "nbformat": 4,
 "nbformat_minor": 2
}
